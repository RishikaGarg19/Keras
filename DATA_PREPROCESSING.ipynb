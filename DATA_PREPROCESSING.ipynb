{
  "nbformat": 4,
  "nbformat_minor": 0,
  "metadata": {
    "colab": {
      "name": "DATA PREPROCESSING",
      "provenance": [],
      "mount_file_id": "1c4eBsiRSBUPQwouL5PNZkyZa2qsE2YAw",
      "authorship_tag": "ABX9TyMxcsAu4KjDnHQOvaDPW0lk"
    },
    "kernelspec": {
      "name": "python3",
      "display_name": "Python 3"
    },
    "accelerator": "GPU"
  },
  "cells": [
    {
      "cell_type": "code",
      "metadata": {
        "id": "F-WDk3PhiWeP"
      },
      "source": [
        "import numpy as np\n",
        "import pandas as pd\n",
        "import os\n",
        "for dirname, _, filenames in os.walk('your file directory, where you downloaded the data'):\n",
        "    for filename in filenames:\n",
        "        print(os.path.join(dirname, filename))"
      ],
      "execution_count": null,
      "outputs": []
    },
    {
      "cell_type": "code",
      "metadata": {
        "id": "5uiDD4epedlu"
      },
      "source": [
        "t140 = pd.read_csv('/kaggle/input/sentiment140/training.1600000.processed.noemoticon.csv',\n",
        "                   sep=',',\n",
        "                   header=None,\n",
        "                   encoding='latin')\n",
        "\n",
        "label_text = t140[[0, 5]]\n",
        "\n",
        "# Convert labels to range 0-1                                        \n",
        "label_text[0] = label_text[0].apply(lambda x: 0 if x == 0 else 1)\n",
        "\n",
        "# Assign proper column names to labels\n",
        "label_text.columns = ['label', 'text']\n",
        "\n",
        "# Assign proper column names to labels\n",
        "label_text.head()"
      ],
      "execution_count": null,
      "outputs": []
    },
    {
      "cell_type": "code",
      "metadata": {
        "id": "ZqR9iF_LelO_"
      },
      "source": [
        "import re\n",
        "\n",
        "hashtags = re.compile(r\"^#\\S+|\\s#\\S+\")\n",
        "mentions = re.compile(r\"^@\\S+|\\s@\\S+\")\n",
        "urls = re.compile(r\"https?://\\S+\")\n",
        "\n",
        "def process_text(text):\n",
        "  text = hashtags.sub(' hashtag', text)\n",
        "  text = mentions.sub(' entity', text)\n",
        "  return text.strip().lower()\n",
        "  \n",
        "def match_expr(pattern, string):\n",
        "  return not pattern.search(string) == None\n",
        "\n",
        "def get_data_wo_urls(dataset):\n",
        "    link_with_urls = dataset.text.apply(lambda x: match_expr(urls, x))\n",
        "    return dataset[[not e for e in link_with_urls]]\n",
        "\n",
        "label_text.text = label_text.text.apply(process_text)\n",
        "\n"
      ],
      "execution_count": null,
      "outputs": []
    },
    {
      "cell_type": "code",
      "metadata": {
        "id": "mCAYhVweeret"
      },
      "source": [
        "from sklearn.model_selection import train_test_split\n",
        "TRAIN_SIZE = 0.75\n",
        "VAL_SIZE = 0.05\n",
        "dataset_count = len(label_text)\n",
        "\n",
        "df_train_val, df_test = train_test_split(label_text, test_size=1-TRAIN_SIZE-VAL_SIZE, random_state=42)\n",
        "df_train, df_val = train_test_split(df_train_val, test_size=VAL_SIZE / (VAL_SIZE + TRAIN_SIZE), random_state=42)\n",
        "\n",
        "print(\"TRAIN size:\", len(df_train))\n",
        "print(\"VAL size:\", len(df_val))\n",
        "print(\"TEST size:\", len(df_test))\n"
      ],
      "execution_count": null,
      "outputs": []
    },
    {
      "cell_type": "code",
      "metadata": {
        "id": "AwbPhwfUex8k"
      },
      "source": [
        "!mkdir dataset\n",
        "df_train.sample(frac=1.0).reset_index(drop=True).to_csv('dataset/train.tsv', sep='\\t', index=None, header=None)\n",
        "df_val.to_csv('dataset/dev.tsv', sep='\\t', index=None, header=None)\n",
        "df_test.to_csv('dataset/test.tsv', sep='\\t', index=None, header=None)\n",
        "! cd dataset && ls"
      ],
      "execution_count": null,
      "outputs": []
    },
    {
      "cell_type": "code",
      "metadata": {
        "id": "TEbfBZD4fQhj"
      },
      "source": [
        "##Model Training "
      ],
      "execution_count": null,
      "outputs": []
    },
    {
      "cell_type": "markdown",
      "metadata": {
        "id": "BMscZ158edXk"
      },
      "source": [
        ""
      ]
    }
  ]
}