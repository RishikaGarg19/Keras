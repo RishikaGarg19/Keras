{
  "nbformat": 4,
  "nbformat_minor": 0,
  "metadata": {
    "colab": {
      "name": "Speech_Recognizer_with_TFLearn",
      "provenance": [],
      "authorship_tag": "ABX9TyM8s6D8hJmtns+FdolCgCMs"
    },
    "kernelspec": {
      "name": "python3",
      "display_name": "Python 3"
    }
  },
  "cells": [
    {
      "cell_type": "code",
      "metadata": {
        "id": "oddFPnPl2zCn",
        "colab_type": "code",
        "colab": {}
      },
      "source": [
        "!pip install tflearn\n"
      ],
      "execution_count": null,
      "outputs": []
    },
    {
      "cell_type": "code",
      "metadata": {
        "id": "GYvZ-aU98oQg",
        "colab_type": "code",
        "colab": {}
      },
      "source": [
        "import tflearn"
        "import speech_data"
      ],
      "execution_count": null,
      "outputs": []
    },
    {
      "cell_type": "code",
      "metadata": {
        "id": "KRx9g9dN4Gy4",
        "colab_type": "code",
        "colab": {}
      },
      "source": [
        "learning_rate = 0.0001\n",
        "training_iters = 300000\n"
      ],
      "execution_count": 6,
      "outputs": []
    },
    {
      "cell_type": "code",
      "metadata": {
        "id": "BZUAR9hS6XrJ",
        "colab_type": "code",
        "colab": {}
      },
      "source": [
        "batch = word_batch = speech_data.mfcc_batch_generator(64)\n",
        "X, Y = next(batch)\n",
        "trainX, trainY = X, Y \n",
        "testX, testY, X, Y"
      ],
      "execution_count": null,
      "outputs": []
    },
    {
      "cell_type": "code",
      "metadata": {
        "id": "JxhX20Dl76Qj",
        "colab_type": "code",
        "colab": {}
      },
      "source": [
        "net = tflearn.input_data([None, 20, 80])\n",
        "net = tflearn.lstm(net, 128, dropout = 0.8)\n",
        "net = tflearn.fully_connected(net , 10, activation = 'softmax')\n",
        "net = tflearn.regression(net, optimizer='adam', learning_rate = learning_rate, loss = 'categorical_crossentropy')\n"
      ],
      "execution_count": null,
      "outputs": []
    },
    {
      "cell_type": "code",
      "metadata": {
        "id": "kVhW_jrm8kWL",
        "colab_type": "code",
        "colab": {}
      },
      "source": [
        "model = tflearn.DNN(net, tenserboard_verbose = 0)\n",
        "while 1:\n",
        "  model.fit(trainX, trainY, n_epoch = 10, validation_set = (testX, testY), show_metric=True, batch_size = 64)\n",
        "  _y = model.predict(X)\n",
        "model.save('tflearn.lstm.model')\n",
        "print(_y)\n",
        "print(y)"
      ],
      "execution_count": null,
      "outputs": []
    }
  ]
}
