{
  "nbformat": 4,
  "nbformat_minor": 0,
  "metadata": {
    "colab": {
      "name": "MINI_2",
      "provenance": [],
      "mount_file_id": "1tho9PtWvQ4Xtj1NxwlU-EYgXbpR45ftE",
      "authorship_tag": "ABX9TyMvDEbFyy1Mdn0rQvA0LKwm"
    },
    "kernelspec": {
      "name": "python3",
      "display_name": "Python 3"
    },
    "accelerator": "GPU"
  },
  "cells": [
    {
      "cell_type": "code",
      "metadata": {
        "id": "xJuQGGTBDTfL"
      },
      "source": [
        "##Mounting GDRIVEE\n"
      ],
      "execution_count": 1,
      "outputs": []
    },
    {
      "cell_type": "code",
      "metadata": {
        "id": "u1vfBk0hDZ8O"
      },
      "source": [
        "##IMPORTING LIBRARIES"
      ],
      "execution_count": 2,
      "outputs": []
    },
    {
      "cell_type": "code",
      "metadata": {
        "id": "pOM6vwoZDmXE",
        "outputId": "17c356cb-8189-4f60-c7fa-a15c523ddfcd",
        "colab": {
          "base_uri": "https://localhost:8080/"
        }
      },
      "source": [
        "\n",
        "\n",
        "import pandas as pd\n",
        "import numpy as np\n",
        "import matplotlib.pyplot as plt\n",
        "%matplotlib inline\n",
        "import re\n",
        "from sklearn.utils import shuffle\n",
        "\n",
        "import tensorflow as tf\n",
        "from tensorflow.keras.preprocessing.text import Tokenizer\n",
        "from tensorflow.keras.preprocessing.sequence import pad_sequences\n",
        "\n",
        "import nltk\n",
        "nltk.download('stopwords')\n",
        "from nltk.corpus import stopwords\n",
        "from nltk.stem import SnowballStemmer\n",
        "\n"
      ],
      "execution_count": 11,
      "outputs": [
        {
          "output_type": "stream",
          "text": [
            "[nltk_data] Downloading package stopwords to /root/nltk_data...\n",
            "[nltk_data]   Unzipping corpora/stopwords.zip.\n"
          ],
          "name": "stdout"
        }
      ]
    },
    {
      "cell_type": "code",
      "metadata": {
        "id": "MhXlincXDnub"
      },
      "source": [
        "MAX_NB_WORDS = 100000    # max no. of words for tokenizer\n",
        "MAX_SEQUENCE_LENGTH = 200 # max length of each entry (sentence), including padding\n",
        "VALIDATION_SPLIT = 0.2   # data for validation (not used in training)\n",
        "EMBEDDING_DIM = 100      # embedding dimensions for word vectors (word2vec/GloVe)\n"
      ],
      "execution_count": 7,
      "outputs": []
    },
    {
      "cell_type": "code",
      "metadata": {
        "id": "qzqsOOypD9rX"
      },
      "source": [
        "df = pd.read_csv('/content/drive/My Drive/data /mini_data.csv',encoding='latin', header= None)"
      ],
      "execution_count": 12,
      "outputs": []
    },
    {
      "cell_type": "code",
      "metadata": {
        "id": "WNnfnHDMEDdm",
        "outputId": "35d4409a-61ea-4d31-fd14-9bcc3c0843ba",
        "colab": {
          "base_uri": "https://localhost:8080/",
          "height": 206
        }
      },
      "source": [
        "df.head()"
      ],
      "execution_count": 13,
      "outputs": [
        {
          "output_type": "execute_result",
          "data": {
            "text/html": [
              "<div>\n",
              "<style scoped>\n",
              "    .dataframe tbody tr th:only-of-type {\n",
              "        vertical-align: middle;\n",
              "    }\n",
              "\n",
              "    .dataframe tbody tr th {\n",
              "        vertical-align: top;\n",
              "    }\n",
              "\n",
              "    .dataframe thead th {\n",
              "        text-align: right;\n",
              "    }\n",
              "</style>\n",
              "<table border=\"1\" class=\"dataframe\">\n",
              "  <thead>\n",
              "    <tr style=\"text-align: right;\">\n",
              "      <th></th>\n",
              "      <th>0</th>\n",
              "      <th>1</th>\n",
              "      <th>2</th>\n",
              "      <th>3</th>\n",
              "      <th>4</th>\n",
              "      <th>5</th>\n",
              "    </tr>\n",
              "  </thead>\n",
              "  <tbody>\n",
              "    <tr>\n",
              "      <th>0</th>\n",
              "      <td>0</td>\n",
              "      <td>1467810369</td>\n",
              "      <td>Mon Apr 06 22:19:45 PDT 2009</td>\n",
              "      <td>NO_QUERY</td>\n",
              "      <td>_TheSpecialOne_</td>\n",
              "      <td>@switchfoot http://twitpic.com/2y1zl - Awww, t...</td>\n",
              "    </tr>\n",
              "    <tr>\n",
              "      <th>1</th>\n",
              "      <td>0</td>\n",
              "      <td>1467810672</td>\n",
              "      <td>Mon Apr 06 22:19:49 PDT 2009</td>\n",
              "      <td>NO_QUERY</td>\n",
              "      <td>scotthamilton</td>\n",
              "      <td>is upset that he can't update his Facebook by ...</td>\n",
              "    </tr>\n",
              "    <tr>\n",
              "      <th>2</th>\n",
              "      <td>0</td>\n",
              "      <td>1467810917</td>\n",
              "      <td>Mon Apr 06 22:19:53 PDT 2009</td>\n",
              "      <td>NO_QUERY</td>\n",
              "      <td>mattycus</td>\n",
              "      <td>@Kenichan I dived many times for the ball. Man...</td>\n",
              "    </tr>\n",
              "    <tr>\n",
              "      <th>3</th>\n",
              "      <td>0</td>\n",
              "      <td>1467811184</td>\n",
              "      <td>Mon Apr 06 22:19:57 PDT 2009</td>\n",
              "      <td>NO_QUERY</td>\n",
              "      <td>ElleCTF</td>\n",
              "      <td>my whole body feels itchy and like its on fire</td>\n",
              "    </tr>\n",
              "    <tr>\n",
              "      <th>4</th>\n",
              "      <td>0</td>\n",
              "      <td>1467811193</td>\n",
              "      <td>Mon Apr 06 22:19:57 PDT 2009</td>\n",
              "      <td>NO_QUERY</td>\n",
              "      <td>Karoli</td>\n",
              "      <td>@nationwideclass no, it's not behaving at all....</td>\n",
              "    </tr>\n",
              "  </tbody>\n",
              "</table>\n",
              "</div>"
            ],
            "text/plain": [
              "   0  ...                                                  5\n",
              "0  0  ...  @switchfoot http://twitpic.com/2y1zl - Awww, t...\n",
              "1  0  ...  is upset that he can't update his Facebook by ...\n",
              "2  0  ...  @Kenichan I dived many times for the ball. Man...\n",
              "3  0  ...    my whole body feels itchy and like its on fire \n",
              "4  0  ...  @nationwideclass no, it's not behaving at all....\n",
              "\n",
              "[5 rows x 6 columns]"
            ]
          },
          "metadata": {
            "tags": []
          },
          "execution_count": 13
        }
      ]
    },
    {
      "cell_type": "code",
      "metadata": {
        "id": "YHyoKiRKFy2V",
        "outputId": "3e66c6eb-85c9-4462-bf6e-051d6e1a35a0",
        "colab": {
          "base_uri": "https://localhost:8080/",
          "height": 206
        }
      },
      "source": [
        "df.columns = ['sentiment', 'id', 'date', 'query', 'user_id', 'text']\n",
        "df.head()"
      ],
      "execution_count": 14,
      "outputs": [
        {
          "output_type": "execute_result",
          "data": {
            "text/html": [
              "<div>\n",
              "<style scoped>\n",
              "    .dataframe tbody tr th:only-of-type {\n",
              "        vertical-align: middle;\n",
              "    }\n",
              "\n",
              "    .dataframe tbody tr th {\n",
              "        vertical-align: top;\n",
              "    }\n",
              "\n",
              "    .dataframe thead th {\n",
              "        text-align: right;\n",
              "    }\n",
              "</style>\n",
              "<table border=\"1\" class=\"dataframe\">\n",
              "  <thead>\n",
              "    <tr style=\"text-align: right;\">\n",
              "      <th></th>\n",
              "      <th>sentiment</th>\n",
              "      <th>id</th>\n",
              "      <th>date</th>\n",
              "      <th>query</th>\n",
              "      <th>user_id</th>\n",
              "      <th>text</th>\n",
              "    </tr>\n",
              "  </thead>\n",
              "  <tbody>\n",
              "    <tr>\n",
              "      <th>0</th>\n",
              "      <td>0</td>\n",
              "      <td>1467810369</td>\n",
              "      <td>Mon Apr 06 22:19:45 PDT 2009</td>\n",
              "      <td>NO_QUERY</td>\n",
              "      <td>_TheSpecialOne_</td>\n",
              "      <td>@switchfoot http://twitpic.com/2y1zl - Awww, t...</td>\n",
              "    </tr>\n",
              "    <tr>\n",
              "      <th>1</th>\n",
              "      <td>0</td>\n",
              "      <td>1467810672</td>\n",
              "      <td>Mon Apr 06 22:19:49 PDT 2009</td>\n",
              "      <td>NO_QUERY</td>\n",
              "      <td>scotthamilton</td>\n",
              "      <td>is upset that he can't update his Facebook by ...</td>\n",
              "    </tr>\n",
              "    <tr>\n",
              "      <th>2</th>\n",
              "      <td>0</td>\n",
              "      <td>1467810917</td>\n",
              "      <td>Mon Apr 06 22:19:53 PDT 2009</td>\n",
              "      <td>NO_QUERY</td>\n",
              "      <td>mattycus</td>\n",
              "      <td>@Kenichan I dived many times for the ball. Man...</td>\n",
              "    </tr>\n",
              "    <tr>\n",
              "      <th>3</th>\n",
              "      <td>0</td>\n",
              "      <td>1467811184</td>\n",
              "      <td>Mon Apr 06 22:19:57 PDT 2009</td>\n",
              "      <td>NO_QUERY</td>\n",
              "      <td>ElleCTF</td>\n",
              "      <td>my whole body feels itchy and like its on fire</td>\n",
              "    </tr>\n",
              "    <tr>\n",
              "      <th>4</th>\n",
              "      <td>0</td>\n",
              "      <td>1467811193</td>\n",
              "      <td>Mon Apr 06 22:19:57 PDT 2009</td>\n",
              "      <td>NO_QUERY</td>\n",
              "      <td>Karoli</td>\n",
              "      <td>@nationwideclass no, it's not behaving at all....</td>\n",
              "    </tr>\n",
              "  </tbody>\n",
              "</table>\n",
              "</div>"
            ],
            "text/plain": [
              "   sentiment  ...                                               text\n",
              "0          0  ...  @switchfoot http://twitpic.com/2y1zl - Awww, t...\n",
              "1          0  ...  is upset that he can't update his Facebook by ...\n",
              "2          0  ...  @Kenichan I dived many times for the ball. Man...\n",
              "3          0  ...    my whole body feels itchy and like its on fire \n",
              "4          0  ...  @nationwideclass no, it's not behaving at all....\n",
              "\n",
              "[5 rows x 6 columns]"
            ]
          },
          "metadata": {
            "tags": []
          },
          "execution_count": 14
        }
      ]
    },
    {
      "cell_type": "code",
      "metadata": {
        "id": "-TaaWduJF8rY"
      },
      "source": [
        "###dropping all the useless :P columns"
      ],
      "execution_count": 16,
      "outputs": []
    },
    {
      "cell_type": "code",
      "metadata": {
        "id": "8jNTMIBUF22p"
      },
      "source": [
        "df = df.drop(['id', 'date', 'query', 'user_id'], axis=1)"
      ],
      "execution_count": null,
      "outputs": []
    },
    {
      "cell_type": "code",
      "metadata": {
        "id": "dOYLS34QF8GX",
        "outputId": "a5311c1d-9d5e-40bc-939c-78e174aedb9f",
        "colab": {
          "base_uri": "https://localhost:8080/",
          "height": 206
        }
      },
      "source": [
        "df.head()"
      ],
      "execution_count": 18,
      "outputs": [
        {
          "output_type": "execute_result",
          "data": {
            "text/html": [
              "<div>\n",
              "<style scoped>\n",
              "    .dataframe tbody tr th:only-of-type {\n",
              "        vertical-align: middle;\n",
              "    }\n",
              "\n",
              "    .dataframe tbody tr th {\n",
              "        vertical-align: top;\n",
              "    }\n",
              "\n",
              "    .dataframe thead th {\n",
              "        text-align: right;\n",
              "    }\n",
              "</style>\n",
              "<table border=\"1\" class=\"dataframe\">\n",
              "  <thead>\n",
              "    <tr style=\"text-align: right;\">\n",
              "      <th></th>\n",
              "      <th>sentiment</th>\n",
              "      <th>text</th>\n",
              "    </tr>\n",
              "  </thead>\n",
              "  <tbody>\n",
              "    <tr>\n",
              "      <th>0</th>\n",
              "      <td>0</td>\n",
              "      <td>@switchfoot http://twitpic.com/2y1zl - Awww, t...</td>\n",
              "    </tr>\n",
              "    <tr>\n",
              "      <th>1</th>\n",
              "      <td>0</td>\n",
              "      <td>is upset that he can't update his Facebook by ...</td>\n",
              "    </tr>\n",
              "    <tr>\n",
              "      <th>2</th>\n",
              "      <td>0</td>\n",
              "      <td>@Kenichan I dived many times for the ball. Man...</td>\n",
              "    </tr>\n",
              "    <tr>\n",
              "      <th>3</th>\n",
              "      <td>0</td>\n",
              "      <td>my whole body feels itchy and like its on fire</td>\n",
              "    </tr>\n",
              "    <tr>\n",
              "      <th>4</th>\n",
              "      <td>0</td>\n",
              "      <td>@nationwideclass no, it's not behaving at all....</td>\n",
              "    </tr>\n",
              "  </tbody>\n",
              "</table>\n",
              "</div>"
            ],
            "text/plain": [
              "   sentiment                                               text\n",
              "0          0  @switchfoot http://twitpic.com/2y1zl - Awww, t...\n",
              "1          0  is upset that he can't update his Facebook by ...\n",
              "2          0  @Kenichan I dived many times for the ball. Man...\n",
              "3          0    my whole body feels itchy and like its on fire \n",
              "4          0  @nationwideclass no, it's not behaving at all...."
            ]
          },
          "metadata": {
            "tags": []
          },
          "execution_count": 18
        }
      ]
    },
    {
      "cell_type": "code",
      "metadata": {
        "id": "_QlI3qKEGFO9"
      },
      "source": [
        "df = df.replace(4,1)"
      ],
      "execution_count": 19,
      "outputs": []
    },
    {
      "cell_type": "code",
      "metadata": {
        "id": "Q2m1mArkGMDf",
        "outputId": "74ea6709-dc19-4a9b-8b59-06100651704d",
        "colab": {
          "base_uri": "https://localhost:8080/",
          "height": 424
        }
      },
      "source": [
        "df.head(-6)"
      ],
      "execution_count": 20,
      "outputs": [
        {
          "output_type": "execute_result",
          "data": {
            "text/html": [
              "<div>\n",
              "<style scoped>\n",
              "    .dataframe tbody tr th:only-of-type {\n",
              "        vertical-align: middle;\n",
              "    }\n",
              "\n",
              "    .dataframe tbody tr th {\n",
              "        vertical-align: top;\n",
              "    }\n",
              "\n",
              "    .dataframe thead th {\n",
              "        text-align: right;\n",
              "    }\n",
              "</style>\n",
              "<table border=\"1\" class=\"dataframe\">\n",
              "  <thead>\n",
              "    <tr style=\"text-align: right;\">\n",
              "      <th></th>\n",
              "      <th>sentiment</th>\n",
              "      <th>text</th>\n",
              "    </tr>\n",
              "  </thead>\n",
              "  <tbody>\n",
              "    <tr>\n",
              "      <th>0</th>\n",
              "      <td>0</td>\n",
              "      <td>@switchfoot http://twitpic.com/2y1zl - Awww, t...</td>\n",
              "    </tr>\n",
              "    <tr>\n",
              "      <th>1</th>\n",
              "      <td>0</td>\n",
              "      <td>is upset that he can't update his Facebook by ...</td>\n",
              "    </tr>\n",
              "    <tr>\n",
              "      <th>2</th>\n",
              "      <td>0</td>\n",
              "      <td>@Kenichan I dived many times for the ball. Man...</td>\n",
              "    </tr>\n",
              "    <tr>\n",
              "      <th>3</th>\n",
              "      <td>0</td>\n",
              "      <td>my whole body feels itchy and like its on fire</td>\n",
              "    </tr>\n",
              "    <tr>\n",
              "      <th>4</th>\n",
              "      <td>0</td>\n",
              "      <td>@nationwideclass no, it's not behaving at all....</td>\n",
              "    </tr>\n",
              "    <tr>\n",
              "      <th>...</th>\n",
              "      <td>...</td>\n",
              "      <td>...</td>\n",
              "    </tr>\n",
              "    <tr>\n",
              "      <th>1599989</th>\n",
              "      <td>1</td>\n",
              "      <td>@Ms_Hip_Hop im glad ur doing well</td>\n",
              "    </tr>\n",
              "    <tr>\n",
              "      <th>1599990</th>\n",
              "      <td>1</td>\n",
              "      <td>WOOOOO! Xbox is back</td>\n",
              "    </tr>\n",
              "    <tr>\n",
              "      <th>1599991</th>\n",
              "      <td>1</td>\n",
              "      <td>@rmedina @LaTati Mmmm  That sounds absolutely ...</td>\n",
              "    </tr>\n",
              "    <tr>\n",
              "      <th>1599992</th>\n",
              "      <td>1</td>\n",
              "      <td>ReCoVeRiNg FrOm ThE lOnG wEeKeNd</td>\n",
              "    </tr>\n",
              "    <tr>\n",
              "      <th>1599993</th>\n",
              "      <td>1</td>\n",
              "      <td>@SCOOBY_GRITBOYS</td>\n",
              "    </tr>\n",
              "  </tbody>\n",
              "</table>\n",
              "<p>1599994 rows × 2 columns</p>\n",
              "</div>"
            ],
            "text/plain": [
              "         sentiment                                               text\n",
              "0                0  @switchfoot http://twitpic.com/2y1zl - Awww, t...\n",
              "1                0  is upset that he can't update his Facebook by ...\n",
              "2                0  @Kenichan I dived many times for the ball. Man...\n",
              "3                0    my whole body feels itchy and like its on fire \n",
              "4                0  @nationwideclass no, it's not behaving at all....\n",
              "...            ...                                                ...\n",
              "1599989          1                 @Ms_Hip_Hop im glad ur doing well \n",
              "1599990          1                              WOOOOO! Xbox is back \n",
              "1599991          1  @rmedina @LaTati Mmmm  That sounds absolutely ...\n",
              "1599992          1                  ReCoVeRiNg FrOm ThE lOnG wEeKeNd \n",
              "1599993          1                                  @SCOOBY_GRITBOYS \n",
              "\n",
              "[1599994 rows x 2 columns]"
            ]
          },
          "metadata": {
            "tags": []
          },
          "execution_count": 20
        }
      ]
    },
    {
      "cell_type": "code",
      "metadata": {
        "id": "qOG2RpDcGPVh"
      },
      "source": [
        "##balancing "
      ],
      "execution_count": 21,
      "outputs": []
    },
    {
      "cell_type": "code",
      "metadata": {
        "id": "ijki2A1-GWld",
        "outputId": "ee5c219d-425c-4f5c-8b34-8fdf00729cb6",
        "colab": {
          "base_uri": "https://localhost:8080/",
          "height": 339
        }
      },
      "source": [
        "sen_value = df['sentiment'].value_counts()\n",
        "print(sen_value)\n",
        "plt.bar(sen_value.index, sen_value.values)"
      ],
      "execution_count": 22,
      "outputs": [
        {
          "output_type": "stream",
          "text": [
            "1    800000\n",
            "0    800000\n",
            "Name: sentiment, dtype: int64\n"
          ],
          "name": "stdout"
        },
        {
          "output_type": "execute_result",
          "data": {
            "text/plain": [
              "<BarContainer object of 2 artists>"
            ]
          },
          "metadata": {
            "tags": []
          },
          "execution_count": 22
        },
        {
          "output_type": "display_data",
          "data": {
            "image/png": "[encoded data removed]",
            "text/plain": [
              "<Figure size 432x288 with 1 Axes>"
            ]
          },
          "metadata": {
            "tags": [],
            "needs_background": "light"
          }
        }
      ]
    },
    {
      "cell_type": "code",
      "metadata": {
        "id": "-PfwE0OQGXBz"
      },
      "source": [
        "###Text preprocessing"
      ],
      "execution_count": 23,
      "outputs": []
    },
    {
      "cell_type": "code",
      "metadata": {
        "id": "enA8Xv3tGd0Z",
        "outputId": "37ee65d2-de5a-4af5-9dd8-769bf11ddb45",
        "colab": {
          "base_uri": "https://localhost:8080/",
          "height": 36
        }
      },
      "source": [
        "stop_words = stopwords.words('english')\n",
        "stemmer = SnowballStemmer('english')\n",
        "text_cleaning_re = \"@\\S+|https?:\\S+|http?:\\S|[^A-Za-z0-9]+\"\n",
        "\n",
        "def preprocess(text):\n",
        "  text = re.sub(text_cleaning_re, ' ', str(text).lower()).strip()\n",
        "  tokens = []\n",
        "  for token in text.split():\n",
        "    if token not in stop_words:\n",
        "        tokens.append(token)\n",
        "  return \" \".join(tokens)\n",
        "\n",
        "df['text'] = df['text'].apply(lambda x: preprocess(x))\n",
        "\n",
        "df['text'][400000]\n",
        "\n"
      ],
      "execution_count": 24,
      "outputs": [
        {
          "output_type": "execute_result",
          "data": {
            "application/vnd.google.colaboratory.intrinsic+json": {
              "type": "string"
            },
            "text/plain": [
              "'mutha effin bored'"
            ]
          },
          "metadata": {
            "tags": []
          },
          "execution_count": 24
        }
      ]
    },
    {
      "cell_type": "code",
      "metadata": {
        "id": "TzSWT0NbGei6"
      },
      "source": [
        "df = shuffle(df)"
      ],
      "execution_count": 25,
      "outputs": []
    },
    {
      "cell_type": "code",
      "metadata": {
        "id": "Sw4msP9YGwWB",
        "outputId": "3a2e2f90-59cc-485c-82d4-33af8085d006",
        "colab": {
          "base_uri": "https://localhost:8080/",
          "height": 424
        }
      },
      "source": [
        "df.head(-4\n",
        ")"
      ],
      "execution_count": 26,
      "outputs": [
        {
          "output_type": "execute_result",
          "data": {
            "text/html": [
              "<div>\n",
              "<style scoped>\n",
              "    .dataframe tbody tr th:only-of-type {\n",
              "        vertical-align: middle;\n",
              "    }\n",
              "\n",
              "    .dataframe tbody tr th {\n",
              "        vertical-align: top;\n",
              "    }\n",
              "\n",
              "    .dataframe thead th {\n",
              "        text-align: right;\n",
              "    }\n",
              "</style>\n",
              "<table border=\"1\" class=\"dataframe\">\n",
              "  <thead>\n",
              "    <tr style=\"text-align: right;\">\n",
              "      <th></th>\n",
              "      <th>sentiment</th>\n",
              "      <th>text</th>\n",
              "    </tr>\n",
              "  </thead>\n",
              "  <tbody>\n",
              "    <tr>\n",
              "      <th>116288</th>\n",
              "      <td>0</td>\n",
              "      <td>sick one bad day another give</td>\n",
              "    </tr>\n",
              "    <tr>\n",
              "      <th>1225589</th>\n",
              "      <td>1</td>\n",
              "      <td>wrote yur dad amp mom amp taylor morning amp d...</td>\n",
              "    </tr>\n",
              "    <tr>\n",
              "      <th>10994</th>\n",
              "      <td>0</td>\n",
              "      <td>sitting work wishing could ran susan g instead</td>\n",
              "    </tr>\n",
              "    <tr>\n",
              "      <th>1384038</th>\n",
              "      <td>1</td>\n",
              "      <td>get eurostar english channel</td>\n",
              "    </tr>\n",
              "    <tr>\n",
              "      <th>114880</th>\n",
              "      <td>0</td>\n",
              "      <td>got early go hiking everyone punks</td>\n",
              "    </tr>\n",
              "    <tr>\n",
              "      <th>...</th>\n",
              "      <td>...</td>\n",
              "      <td>...</td>\n",
              "    </tr>\n",
              "    <tr>\n",
              "      <th>455376</th>\n",
              "      <td>0</td>\n",
              "      <td>bummed weekend winding close sucks go way quic...</td>\n",
              "    </tr>\n",
              "    <tr>\n",
              "      <th>438888</th>\n",
              "      <td>0</td>\n",
              "      <td>know kind absurdity reminds phrase guns outlaw...</td>\n",
              "    </tr>\n",
              "    <tr>\n",
              "      <th>167705</th>\n",
              "      <td>0</td>\n",
              "      <td>im fed</td>\n",
              "    </tr>\n",
              "    <tr>\n",
              "      <th>944263</th>\n",
              "      <td>1</td>\n",
              "      <td>star trek library paramount awesome</td>\n",
              "    </tr>\n",
              "    <tr>\n",
              "      <th>274711</th>\n",
              "      <td>0</td>\n",
              "      <td>g mornin tworld way work ugh im tired</td>\n",
              "    </tr>\n",
              "  </tbody>\n",
              "</table>\n",
              "<p>1599996 rows × 2 columns</p>\n",
              "</div>"
            ],
            "text/plain": [
              "         sentiment                                               text\n",
              "116288           0                      sick one bad day another give\n",
              "1225589          1  wrote yur dad amp mom amp taylor morning amp d...\n",
              "10994            0     sitting work wishing could ran susan g instead\n",
              "1384038          1                       get eurostar english channel\n",
              "114880           0                 got early go hiking everyone punks\n",
              "...            ...                                                ...\n",
              "455376           0  bummed weekend winding close sucks go way quic...\n",
              "438888           0  know kind absurdity reminds phrase guns outlaw...\n",
              "167705           0                                             im fed\n",
              "944263           1                star trek library paramount awesome\n",
              "274711           0              g mornin tworld way work ugh im tired\n",
              "\n",
              "[1599996 rows x 2 columns]"
            ]
          },
          "metadata": {
            "tags": []
          },
          "execution_count": 26
        }
      ]
    },
    {
      "cell_type": "code",
      "metadata": {
        "id": "LihYS00EG8C6"
      },
      "source": [
        "##Advanced Tokeninzing"
      ],
      "execution_count": 28,
      "outputs": []
    },
    {
      "cell_type": "code",
      "metadata": {
        "id": "3gagdsKuGzXh"
      },
      "source": [
        "embed_dim = 100\n",
        "max_length = 16\n",
        "trunc_type='post'\n",
        "padding_type='post'\n",
        "oov_tok = \"<OOV>\"\n",
        "training_size= 160000 \n",
        "test_portion=.1"
      ],
      "execution_count": 29,
      "outputs": []
    },
    {
      "cell_type": "code",
      "metadata": {
        "id": "aFxf2TrGG7bq",
        "outputId": "a773d3e3-2172-4b1d-e7a3-600f9ce5de92",
        "colab": {
          "base_uri": "https://localhost:8080/"
        }
      },
      "source": [
        "tokenizer = Tokenizer()\n",
        "tokenizer.fit_on_texts(df['text'])\n",
        "\n",
        "word_index = tokenizer.word_index\n",
        "vocab_size = len(word_index)\n",
        "\n",
        "sequences = tokenizer.texts_to_sequences(df['text'])\n",
        "padded = pad_sequences(sequences,\n",
        "                      maxlen=max_length,\n",
        "                      padding=padding_type,\n",
        "                      truncating=trunc_type)\n",
        "\n",
        "split = int(test_portion * training_size)\n",
        "\n",
        "test_seq = padded[:split]\n",
        "train_seq = padded[split:training_size]\n",
        "test_labels = df['sentiment'][:split]\n",
        "train_labels = df['sentiment'][split:training_size]\n",
        "\n",
        "print(vocab_size)\n",
        "print(word_index['good'])\n",
        "\n"
      ],
      "execution_count": 30,
      "outputs": [
        {
          "output_type": "stream",
          "text": [
            "335507\n",
            "1\n"
          ],
          "name": "stdout"
        }
      ]
    },
    {
      "cell_type": "code",
      "metadata": {
        "id": "n9TFTv-2HDTq"
      },
      "source": [
        "###Embedding Matrix for GloVe"
      ],
      "execution_count": 31,
      "outputs": []
    },
    {
      "cell_type": "code",
      "metadata": {
        "id": "jK9-4uiHHjKU",
        "outputId": "15930404-7b95-430d-dc6b-48c679eccccd",
        "colab": {
          "base_uri": "https://localhost:8080/"
        }
      },
      "source": [
        "embed_index = {}\n",
        "\n",
        "with open('/content/drive/My Drive/data /glove.txt') as f:\n",
        "    for line in f:\n",
        "        values = line.split();\n",
        "        word = values[0];\n",
        "        coefs = np.asarray(values[1:], dtype='float32');\n",
        "        embed_index[word] = coefs;\n",
        "        \n",
        "embed_matrix = np.zeros((vocab_size+1, embed_dim));\n",
        "for word, i in word_index.items():\n",
        "    embed_vector = embed_index.get(word);\n",
        "    if embed_vector is not None:\n",
        "        embed_matrix[i] = embed_vector;\n",
        "print(\"cool\")"
      ],
      "execution_count": 33,
      "outputs": [
        {
          "output_type": "stream",
          "text": [
            "cool\n"
          ],
          "name": "stdout"
        }
      ]
    },
    {
      "cell_type": "code",
      "metadata": {
        "id": "zzLnzETIHsYP"
      },
      "source": [
        "print(len(embed_matrix))"
      ],
      "execution_count": null,
      "outputs": []
    },
    {
      "cell_type": "code",
      "metadata": {
        "id": "bKLseQOjH5uF"
      },
      "source": [
        "###Model "
      ],
      "execution_count": 35,
      "outputs": []
    },
    {
      "cell_type": "code",
      "metadata": {
        "id": "s9QiXSGkH_yz",
        "outputId": "71a800aa-e75f-4de8-f32e-ad19270f0bf2",
        "colab": {
          "base_uri": "https://localhost:8080/"
        }
      },
      "source": [
        "model = tf.keras.Sequential([\n",
        "    tf.keras.layers.Embedding(vocab_size+1, embed_dim, input_length=max_length, weights=[embed_matrix], trainable=False),\n",
        "    tf.keras.layers.Dropout(0.2),\n",
        "    tf.keras.layers.Bidirectional(tf.keras.layers.GRU(64, return_sequences=True)),\n",
        "    tf.keras.layers.Bidirectional(tf.keras.layers.GRU(32)),\n",
        "    tf.keras.layers.Dropout(0.2),\n",
        "    tf.keras.layers.Dense(64, activation='relu'),\n",
        "    tf.keras.layers.Dropout(0.2),\n",
        "    tf.keras.layers.Dense(1, activation='sigmoid')\n",
        "])\n",
        "\n",
        "model.compile(loss='binary_crossentropy',\n",
        "             optimizer='adam',\n",
        "             metrics=['accuracy'])\n",
        "\n",
        "model.summary()"
      ],
      "execution_count": 36,
      "outputs": [
        {
          "output_type": "stream",
          "text": [
            "Model: \"sequential\"\n",
            "_________________________________________________________________\n",
            "Layer (type)                 Output Shape              Param #   \n",
            "=================================================================\n",
            "embedding (Embedding)        (None, 16, 100)           33550800  \n",
            "_________________________________________________________________\n",
            "dropout (Dropout)            (None, 16, 100)           0         \n",
            "_________________________________________________________________\n",
            "bidirectional (Bidirectional (None, 16, 128)           63744     \n",
            "_________________________________________________________________\n",
            "bidirectional_1 (Bidirection (None, 64)                31104     \n",
            "_________________________________________________________________\n",
            "dropout_1 (Dropout)          (None, 64)                0         \n",
            "_________________________________________________________________\n",
            "dense (Dense)                (None, 64)                4160      \n",
            "_________________________________________________________________\n",
            "dropout_2 (Dropout)          (None, 64)                0         \n",
            "_________________________________________________________________\n",
            "dense_1 (Dense)              (None, 1)                 65        \n",
            "=================================================================\n",
            "Total params: 33,649,873\n",
            "Trainable params: 99,073\n",
            "Non-trainable params: 33,550,800\n",
            "_________________________________________________________________\n"
          ],
          "name": "stdout"
        }
      ]
    },
    {
      "cell_type": "code",
      "metadata": {
        "id": "C7qVsJQJIC0W",
        "outputId": "7e413667-12b0-4b71-a100-00bce39a2461",
        "colab": {
          "base_uri": "https://localhost:8080/"
        }
      },
      "source": [
        "num_epochs = 50\n",
        "\n",
        "train_padded = np.array(train_seq)\n",
        "train_labels = np.array(train_labels)\n",
        "test_padded = np.array(test_seq)\n",
        "test_labels = np.array(test_labels)\n",
        "\n",
        "history = model.fit(train_padded, train_labels, epochs=num_epochs, validation_data=(test_padded, test_labels), verbose=1)\n",
        "\n",
        "print(\"Training Complete\")"
      ],
      "execution_count": 37,
      "outputs": [
        {
          "output_type": "stream",
          "text": [
            "Epoch 1/50\n",
            "4500/4500 [==============================] - 42s 9ms/step - loss: 0.5606 - accuracy: 0.7081 - val_loss: 0.5154 - val_accuracy: 0.7415\n",
            "Epoch 2/50\n",
            "4500/4500 [==============================] - 41s 9ms/step - loss: 0.5222 - accuracy: 0.7381 - val_loss: 0.5029 - val_accuracy: 0.7511\n",
            "Epoch 3/50\n",
            "4500/4500 [==============================] - 40s 9ms/step - loss: 0.5057 - accuracy: 0.7500 - val_loss: 0.4950 - val_accuracy: 0.7549\n",
            "Epoch 4/50\n",
            "4500/4500 [==============================] - 40s 9ms/step - loss: 0.4946 - accuracy: 0.7583 - val_loss: 0.4870 - val_accuracy: 0.7624\n",
            "Epoch 5/50\n",
            "4500/4500 [==============================] - 40s 9ms/step - loss: 0.4844 - accuracy: 0.7644 - val_loss: 0.4869 - val_accuracy: 0.7623\n",
            "Epoch 6/50\n",
            "4500/4500 [==============================] - 41s 9ms/step - loss: 0.4761 - accuracy: 0.7697 - val_loss: 0.4868 - val_accuracy: 0.7654\n",
            "Epoch 7/50\n",
            "4500/4500 [==============================] - 41s 9ms/step - loss: 0.4688 - accuracy: 0.7750 - val_loss: 0.4912 - val_accuracy: 0.7643\n",
            "Epoch 8/50\n",
            "4500/4500 [==============================] - 42s 9ms/step - loss: 0.4619 - accuracy: 0.7783 - val_loss: 0.4877 - val_accuracy: 0.7673\n",
            "Epoch 9/50\n",
            "4500/4500 [==============================] - 41s 9ms/step - loss: 0.4574 - accuracy: 0.7807 - val_loss: 0.4840 - val_accuracy: 0.7657\n",
            "Epoch 10/50\n",
            "4500/4500 [==============================] - 41s 9ms/step - loss: 0.4515 - accuracy: 0.7861 - val_loss: 0.4832 - val_accuracy: 0.7650\n",
            "Epoch 11/50\n",
            "4500/4500 [==============================] - 42s 9ms/step - loss: 0.4477 - accuracy: 0.7860 - val_loss: 0.4898 - val_accuracy: 0.7663\n",
            "Epoch 12/50\n",
            "4500/4500 [==============================] - 41s 9ms/step - loss: 0.4445 - accuracy: 0.7897 - val_loss: 0.4933 - val_accuracy: 0.7654\n",
            "Epoch 13/50\n",
            "4500/4500 [==============================] - 42s 9ms/step - loss: 0.4407 - accuracy: 0.7918 - val_loss: 0.4865 - val_accuracy: 0.7634\n",
            "Epoch 14/50\n",
            "4500/4500 [==============================] - 41s 9ms/step - loss: 0.4395 - accuracy: 0.7922 - val_loss: 0.4952 - val_accuracy: 0.7638\n",
            "Epoch 15/50\n",
            "4500/4500 [==============================] - 41s 9ms/step - loss: 0.4369 - accuracy: 0.7932 - val_loss: 0.4942 - val_accuracy: 0.7643\n",
            "Epoch 16/50\n",
            "4500/4500 [==============================] - 42s 9ms/step - loss: 0.4348 - accuracy: 0.7946 - val_loss: 0.5035 - val_accuracy: 0.7659\n",
            "Epoch 17/50\n",
            "4500/4500 [==============================] - 42s 9ms/step - loss: 0.4322 - accuracy: 0.7968 - val_loss: 0.4966 - val_accuracy: 0.7632\n",
            "Epoch 18/50\n",
            "4500/4500 [==============================] - 41s 9ms/step - loss: 0.4309 - accuracy: 0.7964 - val_loss: 0.5001 - val_accuracy: 0.7626\n",
            "Epoch 19/50\n",
            "4500/4500 [==============================] - 42s 9ms/step - loss: 0.4288 - accuracy: 0.7979 - val_loss: 0.5063 - val_accuracy: 0.7629\n",
            "Epoch 20/50\n",
            "4500/4500 [==============================] - 41s 9ms/step - loss: 0.4276 - accuracy: 0.7998 - val_loss: 0.5029 - val_accuracy: 0.7654\n",
            "Epoch 21/50\n",
            "4500/4500 [==============================] - 41s 9ms/step - loss: 0.4256 - accuracy: 0.8007 - val_loss: 0.4894 - val_accuracy: 0.7659\n",
            "Epoch 22/50\n",
            "4500/4500 [==============================] - 41s 9ms/step - loss: 0.4259 - accuracy: 0.7994 - val_loss: 0.4983 - val_accuracy: 0.7623\n",
            "Epoch 23/50\n",
            "4500/4500 [==============================] - 41s 9ms/step - loss: 0.4225 - accuracy: 0.8017 - val_loss: 0.5210 - val_accuracy: 0.7613\n",
            "Epoch 24/50\n",
            "4500/4500 [==============================] - 41s 9ms/step - loss: 0.4223 - accuracy: 0.8020 - val_loss: 0.5175 - val_accuracy: 0.7619\n",
            "Epoch 25/50\n",
            "4500/4500 [==============================] - 41s 9ms/step - loss: 0.4208 - accuracy: 0.8030 - val_loss: 0.5061 - val_accuracy: 0.7609\n",
            "Epoch 26/50\n",
            "4500/4500 [==============================] - 41s 9ms/step - loss: 0.4208 - accuracy: 0.8030 - val_loss: 0.5025 - val_accuracy: 0.7636\n",
            "Epoch 27/50\n",
            "4500/4500 [==============================] - 41s 9ms/step - loss: 0.4209 - accuracy: 0.8026 - val_loss: 0.5047 - val_accuracy: 0.7599\n",
            "Epoch 28/50\n",
            "4500/4500 [==============================] - 40s 9ms/step - loss: 0.4193 - accuracy: 0.8029 - val_loss: 0.5072 - val_accuracy: 0.7598\n",
            "Epoch 29/50\n",
            "4500/4500 [==============================] - 40s 9ms/step - loss: 0.4202 - accuracy: 0.8028 - val_loss: 0.5215 - val_accuracy: 0.7572\n",
            "Epoch 30/50\n",
            "4500/4500 [==============================] - 40s 9ms/step - loss: 0.4179 - accuracy: 0.8042 - val_loss: 0.5127 - val_accuracy: 0.7564\n",
            "Epoch 31/50\n",
            "4500/4500 [==============================] - 41s 9ms/step - loss: 0.4193 - accuracy: 0.8034 - val_loss: 0.5063 - val_accuracy: 0.7598\n",
            "Epoch 32/50\n",
            "4500/4500 [==============================] - 41s 9ms/step - loss: 0.4199 - accuracy: 0.8043 - val_loss: 0.5082 - val_accuracy: 0.7582\n",
            "Epoch 33/50\n",
            "4500/4500 [==============================] - 41s 9ms/step - loss: 0.4186 - accuracy: 0.8045 - val_loss: 0.5092 - val_accuracy: 0.7593\n",
            "Epoch 34/50\n",
            "4500/4500 [==============================] - 41s 9ms/step - loss: 0.4162 - accuracy: 0.8052 - val_loss: 0.5151 - val_accuracy: 0.7589\n",
            "Epoch 35/50\n",
            "4500/4500 [==============================] - 40s 9ms/step - loss: 0.4170 - accuracy: 0.8053 - val_loss: 0.5189 - val_accuracy: 0.7596\n",
            "Epoch 36/50\n",
            "4500/4500 [==============================] - 41s 9ms/step - loss: 0.4158 - accuracy: 0.8054 - val_loss: 0.5116 - val_accuracy: 0.7593\n",
            "Epoch 37/50\n",
            "4500/4500 [==============================] - 41s 9ms/step - loss: 0.4163 - accuracy: 0.8061 - val_loss: 0.5146 - val_accuracy: 0.7631\n",
            "Epoch 38/50\n",
            "4500/4500 [==============================] - 41s 9ms/step - loss: 0.4143 - accuracy: 0.8062 - val_loss: 0.5359 - val_accuracy: 0.7596\n",
            "Epoch 39/50\n",
            "4500/4500 [==============================] - 41s 9ms/step - loss: 0.4168 - accuracy: 0.8052 - val_loss: 0.4985 - val_accuracy: 0.7618\n",
            "Epoch 40/50\n",
            "4500/4500 [==============================] - 41s 9ms/step - loss: 0.4142 - accuracy: 0.8064 - val_loss: 0.5095 - val_accuracy: 0.7602\n",
            "Epoch 41/50\n",
            "4500/4500 [==============================] - 40s 9ms/step - loss: 0.4135 - accuracy: 0.8071 - val_loss: 0.5092 - val_accuracy: 0.7588\n",
            "Epoch 42/50\n",
            "4500/4500 [==============================] - 40s 9ms/step - loss: 0.4148 - accuracy: 0.8067 - val_loss: 0.5147 - val_accuracy: 0.7569\n",
            "Epoch 43/50\n",
            "4500/4500 [==============================] - 41s 9ms/step - loss: 0.4148 - accuracy: 0.8064 - val_loss: 0.5212 - val_accuracy: 0.7581\n",
            "Epoch 44/50\n",
            "4500/4500 [==============================] - 40s 9ms/step - loss: 0.4146 - accuracy: 0.8064 - val_loss: 0.5314 - val_accuracy: 0.7600\n",
            "Epoch 45/50\n",
            "4500/4500 [==============================] - 42s 9ms/step - loss: 0.4128 - accuracy: 0.8074 - val_loss: 0.5177 - val_accuracy: 0.7584\n",
            "Epoch 46/50\n",
            "4500/4500 [==============================] - 43s 10ms/step - loss: 0.4159 - accuracy: 0.8060 - val_loss: 0.5101 - val_accuracy: 0.7606\n",
            "Epoch 47/50\n",
            "4500/4500 [==============================] - 43s 9ms/step - loss: 0.4138 - accuracy: 0.8071 - val_loss: 0.5026 - val_accuracy: 0.7618\n",
            "Epoch 48/50\n",
            "4500/4500 [==============================] - 42s 9ms/step - loss: 0.4131 - accuracy: 0.8069 - val_loss: 0.5213 - val_accuracy: 0.7581\n",
            "Epoch 49/50\n",
            "4500/4500 [==============================] - 41s 9ms/step - loss: 0.4139 - accuracy: 0.8074 - val_loss: 0.5178 - val_accuracy: 0.7588\n",
            "Epoch 50/50\n",
            "4500/4500 [==============================] - 41s 9ms/step - loss: 0.4130 - accuracy: 0.8064 - val_loss: 0.5102 - val_accuracy: 0.7586\n",
            "Training Complete\n"
          ],
          "name": "stdout"
        }
      ]
    },
    {
      "cell_type": "code",
      "metadata": {
        "id": "fjiY-gjGIJNE",
        "outputId": "d19a10b5-cd9e-4966-8012-e38762b11bad",
        "colab": {
          "base_uri": "https://localhost:8080/",
          "height": 610
        }
      },
      "source": [
        "acc = history.history['accuracy']\n",
        "val_acc = history.history['val_accuracy']\n",
        "loss = history.history['loss']\n",
        "val_loss = history.history['val_loss']\n",
        "\n",
        "epochs = range(len(acc))\n",
        "\n",
        "# Plot training and validation accuracy per epoch\n",
        "plt.plot(epochs, acc, 'r')\n",
        "plt.plot(epochs, val_acc, 'b')\n",
        "plt.title('Training and validation accuracy')\n",
        "plt.xlabel(\"Epochs\")\n",
        "plt.ylabel(\"Accuracy\")\n",
        "plt.legend([\"Accuracy\", \"Validation Accuracy\"])\n",
        "\n",
        "plt.figure()\n",
        "\n",
        "\n",
        "# Plot training and validation loss per epoch\n",
        "plt.plot(epochs, loss, 'r')\n",
        "plt.plot(epochs, val_loss, 'b')\n",
        "plt.title('Training and validation loss')\n",
        "plt.xlabel(\"Epochs\")\n",
        "plt.ylabel(\"Loss\")\n",
        "plt.legend([\"Loss\", \"Validation Loss\"])\n",
        "\n",
        "plt.figure()"
      ],
      "execution_count": 38,
      "outputs": [
        {
          "output_type": "execute_result",
          "data": {
            "text/plain": [
              "<Figure size 432x288 with 0 Axes>"
            ]
          },
          "metadata": {
            "tags": []
          },
          "execution_count": 38
        },
        {
          "output_type": "display_data",
          "data": {
            "image/png": "[encoded data removed]",
            "text/plain": [
              "<Figure size 432x288 with 1 Axes>"
            ]
          },
          "metadata": {
            "tags": [],
            "needs_background": "light"
          }
        },
        {
          "output_type": "display_data",
          "data": {
            "image/png": "[encoded data removed]",
            "text/plain": [
              "<Figure size 432x288 with 1 Axes>"
            ]
          },
          "metadata": {
            "tags": [],
            "needs_background": "light"
          }
        },
        {
          "output_type": "display_data",
          "data": {
            "text/plain": [
              "<Figure size 432x288 with 0 Axes>"
            ]
          },
          "metadata": {
            "tags": []
          }
        }
      ]
    }
  ]
}