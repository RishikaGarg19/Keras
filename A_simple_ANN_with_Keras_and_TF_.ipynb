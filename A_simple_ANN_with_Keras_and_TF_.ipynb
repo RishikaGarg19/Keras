{
  "nbformat": 4,
  "nbformat_minor": 0,
  "metadata": {
    "colab": {
      "name": "A simple ANN with Keras and TF. ",
      "provenance": [],
      "authorship_tag": "ABX9TyMl11+vKdhaxAH6lTUNPXIv"
    },
    "kernelspec": {
      "name": "python3",
      "display_name": "Python 3"
    },
    "accelerator": "GPU"
  },
  "cells": [
    {
      "cell_type": "code",
      "metadata": {
        "id": "TFa9pzZwtyqi",
        "colab_type": "code",
        "colab": {}
      },
      "source": [
        "import tensorflow as tf\n",
        "from tensorflow import keras \n",
        "from tensorflow.keras.models import Sequential \n",
        "from tensorflow.keras.optimizers import Adam \n",
        "from tensorflow.keras.metrics import categorical_crossentropy\n",
        "from tensorflow.keras.layers import Activation, Dense\n",
        " \n",
        "\n"
      ],
      "execution_count": 8,
      "outputs": []
    },
    {
      "cell_type": "code",
      "metadata": {
        "id": "k0GLQ-rVuIaA",
        "colab_type": "code",
        "colab": {
          "base_uri": "https://localhost:8080/",
          "height": 34
        },
        "outputId": "70539db9-1105-432e-d754-f082093ac5b1"
      },
      "source": [
        "physical_devices = tf.config.experimental.list_physical_devices('GPU')\n",
        "print(\"Num GPUs Available\", len(physical_devices))\n",
        "tf.config.experimental.set_memory_growth(physical_devices[0], True)"
      ],
      "execution_count": 9,
      "outputs": [
        {
          "output_type": "stream",
          "text": [
            "Num GPUs Available 1\n"
          ],
          "name": "stdout"
        }
      ]
    },
    {
      "cell_type": "code",
      "metadata": {
        "id": "tvUUfrOsCedO",
        "colab_type": "code",
        "colab": {
          "base_uri": "https://localhost:8080/",
          "height": 34
        },
        "outputId": "1d45d1f3-51f3-4e4e-a7f3-8e30b68dc3f1"
      },
      "source": [
        "model = Sequential([Dense(units =16, input_shape =(1,), activation = 'relu'),\n",
        "                    Dense(units= 32, activation='relu'), \n",
        "                    Dense(units = 2, activation='softmax')\n",
        "])\n",
        "\n",
        "print(\"k\")"
      ],
      "execution_count": 10,
      "outputs": [
        {
          "output_type": "stream",
          "text": [
            "k\n"
          ],
          "name": "stdout"
        }
      ]
    },
    {
      "cell_type": "code",
      "metadata": {
        "id": "RxE8WYceDR1h",
        "colab_type": "code",
        "colab": {
          "base_uri": "https://localhost:8080/",
          "height": 263
        },
        "outputId": "8e52a3c2-d4ce-45d1-c70d-899a797c1e53"
      },
      "source": [
        "model.summary()"
      ],
      "execution_count": 11,
      "outputs": [
        {
          "output_type": "stream",
          "text": [
            "Model: \"sequential\"\n",
            "_________________________________________________________________\n",
            "Layer (type)                 Output Shape              Param #   \n",
            "=================================================================\n",
            "dense (Dense)                (None, 16)                32        \n",
            "_________________________________________________________________\n",
            "dense_1 (Dense)              (None, 32)                544       \n",
            "_________________________________________________________________\n",
            "dense_2 (Dense)              (None, 2)                 66        \n",
            "=================================================================\n",
            "Total params: 642\n",
            "Trainable params: 642\n",
            "Non-trainable params: 0\n",
            "_________________________________________________________________\n"
          ],
          "name": "stdout"
        }
      ]
    },
    {
      "cell_type": "code",
      "metadata": {
        "id": "wVhH0NA2DdEA",
        "colab_type": "code",
        "colab": {}
      },
      "source": [
        "import numpy as np \n",
        "import random \n",
        "import sklearn \n",
        "from sklearn.preprocessing import MinMaxScaler"
      ],
      "execution_count": 12,
      "outputs": []
    },
    {
      "cell_type": "code",
      "metadata": {
        "id": "chJnaFDyLQoA",
        "colab_type": "code",
        "colab": {}
      },
      "source": [
        "train_samples = []\n",
        "train_labels = []"
      ],
      "execution_count": 13,
      "outputs": []
    },
    {
      "cell_type": "code",
      "metadata": {
        "id": "OyA4Xp1NLUXF",
        "colab_type": "code",
        "colab": {}
      },
      "source": [
        "for i in range(100):\n",
        "  random_younger = random.randint(13,64)\n",
        "  train_samples.append(random_younger)\n",
        "  train_labels.append(1)\n",
        "\n",
        "for i in range(100):\n",
        "  random_older = random.randint(65, 105)\n",
        "  train_samples.append(random_older)\n",
        "  train_labels.append(0)\n",
        "\n",
        "for i in range(3000):\n",
        "  random_younger = random.randint(13,64)\n",
        "  train_samples.append(random_younger)\n",
        "  train_labels.append(0)\n",
        "\n",
        "for i in range(3000):\n",
        "  random_older = random.randint(13,64)\n",
        "  train_samples.append(random_older)\n",
        "  train_labels.append(1)"
      ],
      "execution_count": null,
      "outputs": []
    },
    {
      "cell_type": "code",
      "metadata": {
        "id": "RgnM483JLXLP",
        "colab_type": "code",
        "colab": {}
      },
      "source": [
        "#changing the list to an numpy array to fit the fit() demands :\n",
        "train_labels = np.array(train_labels)\n",
        "train_samples = np.array(train_samples)\n",
        "train_labels, train_samples = sklearn.utils.shuffle(train_labels, train_samples )\n"
      ],
      "execution_count": 33,
      "outputs": []
    },
    {
      "cell_type": "code",
      "metadata": {
        "id": "k1p6B-ZKLgHp",
        "colab_type": "code",
        "colab": {}
      },
      "source": [
        "#scaling down the data from 13-105 ages to -1,1 because fit() only accepts 2-d data\n",
        "\n",
        "scaler = MinMaxScaler(feature_range=(0,1))\n",
        "\n",
        "scaled_train_samples = scaler.fit_transform(train_samples.reshape(-1,1))"
      ],
      "execution_count": 34,
      "outputs": []
    },
    {
      "cell_type": "code",
      "metadata": {
        "id": "VBcE9lpoLjqX",
        "colab_type": "code",
        "colab": {}
      },
      "source": [
        "#Training The Model :\n",
        "\n",
        "model.compile(optimizer = Adam(learning_rate = 0.00001), loss = \"sparse_categorical_crossentropy\", metrics = ['accuracy'])\n",
        "\n",
        "\n"
      ],
      "execution_count": 35,
      "outputs": []
    },
    {
      "cell_type": "code",
      "metadata": {
        "id": "oCdiR-XGNmx0",
        "colab_type": "code",
        "colab": {}
      },
      "source": [
        "\n",
        "model.summary()"
      ],
      "execution_count": null,
      "outputs": []
    },
    {
      "cell_type": "code",
      "metadata": {
        "id": "pKzdMcTpNxwj",
        "colab_type": "code",
        "colab": {}
      },
      "source": [
        "model.fit( x= scaled_train_samples, y= train_labels, batch_size=10, epochs = 30\n",
        "          , shuffle=True, verbose=2)"
      ],
      "execution_count": null,
      "outputs": []
    },
    {
      "cell_type": "code",
      "metadata": {
        "id": "pUoBBmxXO7x7",
        "colab_type": "code",
        "colab": {}
      },
      "source": [
        ""
      ],
      "execution_count": null,
      "outputs": []
    }
  ]
}